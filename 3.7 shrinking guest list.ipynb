{
 "cells": [
  {
   "cell_type": "code",
   "execution_count": 2,
   "metadata": {},
   "outputs": [
    {
     "name": "stdout",
     "output_type": "stream",
     "text": [
      "Adeela, please come to dinner.\n",
      "Aysha, please come to dinner.\n",
      "Hina, please come to dinner.\n",
      "\n",
      "sorry, Aysha can't make it to dinner.\n",
      "Adeela, please come to dinner.\n",
      "Iqra, please come to dinner.\n",
      "Hina, please come to dinner.\n",
      "\n",
      "we got a bigger table!\n",
      "Amna, please come to dinner.\n",
      "Adeela, please come to dinner.\n",
      "Maria, please come to dinner.\n",
      "Iqra, please come to dinner.\n",
      "Hina, please come to dinner.\n",
      "Afia, please come to dinner.\n",
      "sorry, we can only invite two people to dinner.\n",
      "sorry, Afia there is no room at the table.\n",
      "sorry, Hina there is no room at the table.\n",
      "sorry, Iqra there is no room at the table.\n",
      "sorry, Maria there is no room at the table.\n",
      "Amna, please come to dinner.\n",
      "Adeela, please come to dinner.\n",
      "[]\n"
     ]
    }
   ],
   "source": [
    "#invite some people to dinner.\n",
    "guests=['adeela', 'aysha','hina']\n",
    "name=guests[0].title()\n",
    "print(f\"{name}, please come to dinner.\")\n",
    "name=guests[1].title()\n",
    "print(f\"{name}, please come to dinner.\")\n",
    "name=guests[2].title()\n",
    "print(f\"{name}, please come to dinner.\")\n",
    "name=guests[1].title()\n",
    "print(f\"\\nsorry, {name} can't make it to dinner.\")\n",
    "#aysha can't make it! let's invite iqra instead.\n",
    "del(guests[1])\n",
    "guests.insert(1, 'iqra')\n",
    "#print the invitations again.\n",
    "name=guests[0].title()\n",
    "print(f\"{name}, please come to dinner.\")\n",
    "name=guests[1].title()\n",
    "print(f\"{name}, please come to dinner.\")\n",
    "name=guests[2].title()\n",
    "print(f\"{name}, please come to dinner.\")\n",
    "#we got a bigger table,so let's add some more people to the list.\n",
    "print(\"\\nwe got a bigger table!\")\n",
    "guests.insert(0, 'amna')\n",
    "guests.insert(2, 'maria')\n",
    "guests.append('afia')\n",
    "name=guests[0].title()\n",
    "print(f\"{name}, please come to dinner.\")\n",
    "name=guests[1].title()\n",
    "print(f\"{name}, please come to dinner.\")\n",
    "name=guests[2].title()\n",
    "print(f\"{name}, please come to dinner.\")\n",
    "name=guests[3].title()\n",
    "print(f\"{name}, please come to dinner.\")\n",
    "name=guests[4].title()\n",
    "print(f\"{name}, please come to dinner.\")\n",
    "name=guests[5].title()\n",
    "print(f\"{name}, please come to dinner.\")\n",
    "#oh no,the table won't arrive on time!\n",
    "print(f\"sorry, we can only invite two people to dinner.\")\n",
    "name=guests.pop()\n",
    "print(f\"sorry, {name.title()} there is no room at the table.\")\n",
    "name=guests.pop()\n",
    "print(f\"sorry, {name.title()} there is no room at the table.\")\n",
    "name=guests.pop()\n",
    "print(f\"sorry, {name.title()} there is no room at the table.\")\n",
    "name=guests.pop()\n",
    "print(f\"sorry, {name.title()} there is no room at the table.\")\n",
    "#there should be two people left, let's invite them.\n",
    "name=guests[0].title()\n",
    "print(f\"{name}, please come to dinner.\")\n",
    "name=guests[1].title()\n",
    "print(f\"{name}, please come to dinner.\")\n",
    "#empty out the list.\n",
    "del(guests[0])\n",
    "del(guests[0])\n",
    "#prove the list is empty.\n",
    "print(guests)\n",
    "\n"
   ]
  }
 ],
 "metadata": {
  "interpreter": {
   "hash": "b89b5cfaba6639976dc87ff2fec6d58faec662063367e2c229c520fe71072417"
  },
  "kernelspec": {
   "display_name": "Python 3.10.4 64-bit",
   "language": "python",
   "name": "python3"
  },
  "language_info": {
   "codemirror_mode": {
    "name": "ipython",
    "version": 3
   },
   "file_extension": ".py",
   "mimetype": "text/x-python",
   "name": "python",
   "nbconvert_exporter": "python",
   "pygments_lexer": "ipython3",
   "version": "3.10.4"
  },
  "orig_nbformat": 4
 },
 "nbformat": 4,
 "nbformat_minor": 2
}
