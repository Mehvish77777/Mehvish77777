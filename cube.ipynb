{
 "cells": [
  {
   "cell_type": "code",
   "execution_count": 1,
   "metadata": {},
   "outputs": [
    {
     "name": "stdout",
     "output_type": "stream",
     "text": [
      "1\n",
      "8\n",
      "27\n",
      "64\n",
      "125\n",
      "216\n",
      "343\n",
      "512\n",
      "729\n",
      "1000\n"
     ]
    }
   ],
   "source": [
    "cubes=[number**3 for number in range (1,11)]\n",
    "for cube in cubes:\n",
    "    print(cube)"
   ]
  },
  {
   "cell_type": "code",
   "execution_count": 1,
   "metadata": {},
   "outputs": [
    {
     "name": "stdout",
     "output_type": "stream",
     "text": [
      "pepperoni\n",
      "\n",
      "\n",
      "i really lovepepperoni pizza!\n",
      "\n",
      "i really love pizza!\n",
      "i really lovebonefire pizza!\n",
      "\n",
      "i really love pizza!\n",
      "i really lovetikka pizza!\n",
      "\n",
      "i really love pizza!\n",
      "bonefire\n",
      "\n",
      "\n",
      "i really lovepepperoni pizza!\n",
      "\n",
      "i really love pizza!\n",
      "i really lovebonefire pizza!\n",
      "\n",
      "i really love pizza!\n",
      "i really lovetikka pizza!\n",
      "\n",
      "i really love pizza!\n",
      "tikka\n",
      "\n",
      "\n",
      "i really lovepepperoni pizza!\n",
      "\n",
      "i really love pizza!\n",
      "i really lovebonefire pizza!\n",
      "\n",
      "i really love pizza!\n",
      "i really lovetikka pizza!\n",
      "\n",
      "i really love pizza!\n"
     ]
    }
   ],
   "source": [
    "pizzas=['pepperoni','bonefire','tikka']\n",
    "#print the names of all the pizzas:\n",
    "for pizza in pizzas:\n",
    "    print(pizza)\n",
    "    print(\"\\n\")\n",
    "    #print a sentence about each pizza.\n",
    "    for pizza in pizzas:\n",
    "        print(\"i really love\" + pizza + \" pizza!\")\n",
    "        print(\"\\ni really love pizza!\")"
   ]
  }
 ],
 "metadata": {
  "interpreter": {
   "hash": "b89b5cfaba6639976dc87ff2fec6d58faec662063367e2c229c520fe71072417"
  },
  "kernelspec": {
   "display_name": "Python 3.10.4 64-bit",
   "language": "python",
   "name": "python3"
  },
  "language_info": {
   "codemirror_mode": {
    "name": "ipython",
    "version": 3
   },
   "file_extension": ".py",
   "mimetype": "text/x-python",
   "name": "python",
   "nbconvert_exporter": "python",
   "pygments_lexer": "ipython3",
   "version": "3.10.4"
  },
  "orig_nbformat": 4
 },
 "nbformat": 4,
 "nbformat_minor": 2
}
