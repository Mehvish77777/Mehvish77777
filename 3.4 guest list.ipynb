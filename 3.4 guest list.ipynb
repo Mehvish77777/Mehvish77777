{
 "cells": [
  {
   "cell_type": "code",
   "execution_count": 4,
   "metadata": {},
   "outputs": [
    {
     "name": "stdout",
     "output_type": "stream",
     "text": [
      "Adeela, please come to dinner.\n",
      "Aysha, please come to dinner.\n",
      "Hina, please come to dinner.\n"
     ]
    }
   ],
   "source": [
    "guests=['adeela', 'aysha','hina']\n",
    "name=guests[0].title()\n",
    "print(f\"{name}, please come to dinner.\")\n",
    "name=guests[1].title()\n",
    "print(f\"{name}, please come to dinner.\")\n",
    "name=guests[2].title()\n",
    "print(f\"{name}, please come to dinner.\")"
   ]
  }
 ],
 "metadata": {
  "interpreter": {
   "hash": "b89b5cfaba6639976dc87ff2fec6d58faec662063367e2c229c520fe71072417"
  },
  "kernelspec": {
   "display_name": "Python 3.10.4 64-bit",
   "language": "python",
   "name": "python3"
  },
  "language_info": {
   "codemirror_mode": {
    "name": "ipython",
    "version": 3
   },
   "file_extension": ".py",
   "mimetype": "text/x-python",
   "name": "python",
   "nbconvert_exporter": "python",
   "pygments_lexer": "ipython3",
   "version": "3.10.4"
  },
  "orig_nbformat": 4
 },
 "nbformat": 4,
 "nbformat_minor": 2
}
