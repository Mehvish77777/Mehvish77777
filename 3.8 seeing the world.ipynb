{
 "cells": [
  {
   "cell_type": "code",
   "execution_count": 2,
   "metadata": {},
   "outputs": [
    {
     "name": "stdout",
     "output_type": "stream",
     "text": [
      "original order:\n",
      "['eiffel tower', 'taj mehal', 'burj khalifa', 'andes', 'himalaya']\n",
      "\n",
      "Alphabetical:\n",
      "['andes', 'burj khalifa', 'eiffel tower', 'himalaya', 'taj mehal']\n",
      "\n",
      "Original order:\n",
      "['eiffel tower', 'taj mehal', 'burj khalifa', 'andes', 'himalaya']\n",
      "\n",
      "Reverse alphabetical:\n",
      "['taj mehal', 'himalaya', 'eiffel tower', 'burj khalifa', 'andes']\n",
      "\n",
      "Original order:\n",
      "['eiffel tower', 'taj mehal', 'burj khalifa', 'andes', 'himalaya']\n",
      "\n",
      "Reversed:\n",
      "['himalaya', 'andes', 'burj khalifa', 'taj mehal', 'eiffel tower']\n",
      "\n",
      "Original order:\n",
      "['eiffel tower', 'taj mehal', 'burj khalifa', 'andes', 'himalaya']\n",
      "\n",
      "Alphabetical:\n",
      "['andes', 'burj khalifa', 'eiffel tower', 'himalaya', 'taj mehal']\n",
      "\n",
      "Reverse alphabetical\n",
      "['taj mehal', 'himalaya', 'eiffel tower', 'burj khalifa', 'andes']\n"
     ]
    }
   ],
   "source": [
    "locations=['eiffel tower','taj mehal','burj khalifa','andes','himalaya']\n",
    "print(\"original order:\")\n",
    "print(locations)\n",
    "print(\"\\nAlphabetical:\")\n",
    "print(sorted(locations))\n",
    "print(\"\\nOriginal order:\")\n",
    "print(locations)\n",
    "print(\"\\nReverse alphabetical:\")\n",
    "print(sorted(locations, reverse=True))\n",
    "print(\"\\nOriginal order:\")\n",
    "print(locations)\n",
    "print(\"\\nReversed:\")\n",
    "locations.reverse()\n",
    "print(locations)\n",
    "print(\"\\nOriginal order:\")\n",
    "locations.reverse()\n",
    "print(locations)\n",
    "print(\"\\nAlphabetical:\")\n",
    "locations.sort()\n",
    "print(locations)\n",
    "print(\"\\nReverse alphabetical\")\n",
    "locations.sort(reverse=True)\n",
    "print(locations)\n",
    "\n",
    "\n",
    "\n"
   ]
  }
 ],
 "metadata": {
  "interpreter": {
   "hash": "b89b5cfaba6639976dc87ff2fec6d58faec662063367e2c229c520fe71072417"
  },
  "kernelspec": {
   "display_name": "Python 3.10.4 64-bit",
   "language": "python",
   "name": "python3"
  },
  "language_info": {
   "codemirror_mode": {
    "name": "ipython",
    "version": 3
   },
   "file_extension": ".py",
   "mimetype": "text/x-python",
   "name": "python",
   "nbconvert_exporter": "python",
   "pygments_lexer": "ipython3",
   "version": "3.10.4"
  },
  "orig_nbformat": 4
 },
 "nbformat": 4,
 "nbformat_minor": 2
}
